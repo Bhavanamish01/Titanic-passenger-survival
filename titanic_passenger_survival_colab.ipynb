{
  "nbformat": 4,
  "nbformat_minor": 0,
  "metadata": {
    "colab": {
      "name": "titanic passenger survival colab",
      "provenance": [],
      "collapsed_sections": [],
      "include_colab_link": true
    },
    "kernelspec": {
      "display_name": "Python 3",
      "name": "python3"
    }
  },
  "cells": [
    {
      "cell_type": "markdown",
      "metadata": {
        "id": "view-in-github",
        "colab_type": "text"
      },
      "source": [
        "<a href=\"https://colab.research.google.com/github/Bhavanamish01/Titanic-passenger-survival/blob/main/titanic_passenger_survival_colab.ipynb\" target=\"_parent\"><img src=\"https://colab.research.google.com/assets/colab-badge.svg\" alt=\"Open In Colab\"/></a>"
      ]
    },
    {
      "cell_type": "markdown",
      "metadata": {
        "id": "PJMdyzkzbPtB"
      },
      "source": [
        "TITANIC PASSENGER SURVIVAL\n",
        "\n",
        "This analysis attempts to predicate the probability for survival of the Titanic passengers. In order to do this, I will use the different features available about the passengers, use a subset of the data to train an algorithm and then run the algorithm on the rest of the data set to get a prediction.\n"
      ]
    },
    {
      "cell_type": "code",
      "metadata": {
        "id": "7F-6msln-Ial"
      },
      "source": [
        "#titanic analysis of death\n",
        "import pandas as pd\n",
        "import numpy as np\n",
        "import matplotlib.pyplot as plt\n",
        "from pandas.plotting import scatter_matrix\n",
        "%matplotlib inline\n"
      ],
      "execution_count": null,
      "outputs": []
    },
    {
      "cell_type": "code",
      "metadata": {
        "id": "j_rcGS6M-i28"
      },
      "source": [
        "import seaborn as sns\n",
        "sns.set(style='white',color_codes=True)\n",
        "sns.set(font_scale=1.5)\n",
        "from sklearn.linear_model import LogisticRegression\n",
        "from sklearn.model_selection import train_test_split\n",
        "from sklearn.metrics import confusion_matrix\n",
        "from sklearn.metrics import classification_report\n",
        "from sklearn.metrics import accuracy_score\n",
        "from sklearn.metrics import precision_score\n",
        "from sklearn.metrics import recall_score\n",
        "from sklearn.metrics import f1_score\n",
        "from sklearn import metrics\n"
      ],
      "execution_count": null,
      "outputs": []
    },
    {
      "cell_type": "code",
      "metadata": {
        "id": "CVqNMPrU-qti",
        "colab": {
          "base_uri": "https://localhost:8080/"
        },
        "outputId": "7ec2b7cd-33b2-46b5-f584-e32b6c64db00"
      },
      "source": [
        "df_train=pd.read_csv(r\"/content/train.csv\")\n",
        "df_train.shape\n"
      ],
      "execution_count": null,
      "outputs": [
        {
          "output_type": "execute_result",
          "data": {
            "text/plain": [
              "(891, 12)"
            ]
          },
          "metadata": {
            "tags": []
          },
          "execution_count": 118
        }
      ]
    },
    {
      "cell_type": "code",
      "metadata": {
        "id": "FuERFrKv-vug",
        "colab": {
          "base_uri": "https://localhost:8080/"
        },
        "outputId": "43419e8c-6e0f-4c68-fb7a-bb03c7755154"
      },
      "source": [
        "df_train.Survived.value_counts()"
      ],
      "execution_count": null,
      "outputs": [
        {
          "output_type": "execute_result",
          "data": {
            "text/plain": [
              "0    549\n",
              "1    342\n",
              "Name: Survived, dtype: int64"
            ]
          },
          "metadata": {
            "tags": []
          },
          "execution_count": 119
        }
      ]
    },
    {
      "cell_type": "code",
      "metadata": {
        "id": "hZGUPxNM-wjB",
        "colab": {
          "base_uri": "https://localhost:8080/"
        },
        "outputId": "da9229bc-bf1d-4160-946d-ee68b33a0358"
      },
      "source": [
        "df_train.Sex.value_counts()"
      ],
      "execution_count": null,
      "outputs": [
        {
          "output_type": "execute_result",
          "data": {
            "text/plain": [
              "male      577\n",
              "female    314\n",
              "Name: Sex, dtype: int64"
            ]
          },
          "metadata": {
            "tags": []
          },
          "execution_count": 120
        }
      ]
    },
    {
      "cell_type": "code",
      "metadata": {
        "id": "In8B9ZVv-z4I",
        "colab": {
          "base_uri": "https://localhost:8080/"
        },
        "outputId": "1352109c-4003-4673-ce77-fe3c2f157734"
      },
      "source": [
        "df_train.Embarked.value_counts()"
      ],
      "execution_count": null,
      "outputs": [
        {
          "output_type": "execute_result",
          "data": {
            "text/plain": [
              "S    644\n",
              "C    168\n",
              "Q     77\n",
              "Name: Embarked, dtype: int64"
            ]
          },
          "metadata": {
            "tags": []
          },
          "execution_count": 121
        }
      ]
    },
    {
      "cell_type": "code",
      "metadata": {
        "id": "_gNTzI6l-3fZ",
        "colab": {
          "base_uri": "https://localhost:8080/"
        },
        "outputId": "b5f6d128-7057-4982-d485-2dff82934a4d"
      },
      "source": [
        "df_train.isnull().sum()\n"
      ],
      "execution_count": null,
      "outputs": [
        {
          "output_type": "execute_result",
          "data": {
            "text/plain": [
              "PassengerId      0\n",
              "Survived         0\n",
              "Pclass           0\n",
              "Name             0\n",
              "Sex              0\n",
              "Age            177\n",
              "SibSp            0\n",
              "Parch            0\n",
              "Ticket           0\n",
              "Fare             0\n",
              "Cabin          687\n",
              "Embarked         2\n",
              "dtype: int64"
            ]
          },
          "metadata": {
            "tags": []
          },
          "execution_count": 123
        }
      ]
    },
    {
      "cell_type": "code",
      "metadata": {
        "id": "BIKg6UPp_Kxa",
        "colab": {
          "base_uri": "https://localhost:8080/",
          "height": 237
        },
        "outputId": "8b320e9e-2a7c-490a-9702-6afc376ece61"
      },
      "source": [
        "df_train.head()"
      ],
      "execution_count": null,
      "outputs": [
        {
          "output_type": "execute_result",
          "data": {
            "text/html": [
              "<div>\n",
              "<style scoped>\n",
              "    .dataframe tbody tr th:only-of-type {\n",
              "        vertical-align: middle;\n",
              "    }\n",
              "\n",
              "    .dataframe tbody tr th {\n",
              "        vertical-align: top;\n",
              "    }\n",
              "\n",
              "    .dataframe thead th {\n",
              "        text-align: right;\n",
              "    }\n",
              "</style>\n",
              "<table border=\"1\" class=\"dataframe\">\n",
              "  <thead>\n",
              "    <tr style=\"text-align: right;\">\n",
              "      <th></th>\n",
              "      <th>PassengerId</th>\n",
              "      <th>Survived</th>\n",
              "      <th>Pclass</th>\n",
              "      <th>Name</th>\n",
              "      <th>Sex</th>\n",
              "      <th>Age</th>\n",
              "      <th>SibSp</th>\n",
              "      <th>Parch</th>\n",
              "      <th>Ticket</th>\n",
              "      <th>Fare</th>\n",
              "      <th>Cabin</th>\n",
              "      <th>Embarked</th>\n",
              "    </tr>\n",
              "  </thead>\n",
              "  <tbody>\n",
              "    <tr>\n",
              "      <th>0</th>\n",
              "      <td>1</td>\n",
              "      <td>0</td>\n",
              "      <td>3</td>\n",
              "      <td>Braund, Mr. Owen Harris</td>\n",
              "      <td>male</td>\n",
              "      <td>22.0</td>\n",
              "      <td>1</td>\n",
              "      <td>0</td>\n",
              "      <td>A/5 21171</td>\n",
              "      <td>7.2500</td>\n",
              "      <td>NaN</td>\n",
              "      <td>S</td>\n",
              "    </tr>\n",
              "    <tr>\n",
              "      <th>1</th>\n",
              "      <td>2</td>\n",
              "      <td>1</td>\n",
              "      <td>1</td>\n",
              "      <td>Cumings, Mrs. John Bradley (Florence Briggs Th...</td>\n",
              "      <td>female</td>\n",
              "      <td>38.0</td>\n",
              "      <td>1</td>\n",
              "      <td>0</td>\n",
              "      <td>PC 17599</td>\n",
              "      <td>71.2833</td>\n",
              "      <td>C85</td>\n",
              "      <td>C</td>\n",
              "    </tr>\n",
              "    <tr>\n",
              "      <th>2</th>\n",
              "      <td>3</td>\n",
              "      <td>1</td>\n",
              "      <td>3</td>\n",
              "      <td>Heikkinen, Miss. Laina</td>\n",
              "      <td>female</td>\n",
              "      <td>26.0</td>\n",
              "      <td>0</td>\n",
              "      <td>0</td>\n",
              "      <td>STON/O2. 3101282</td>\n",
              "      <td>7.9250</td>\n",
              "      <td>NaN</td>\n",
              "      <td>S</td>\n",
              "    </tr>\n",
              "    <tr>\n",
              "      <th>3</th>\n",
              "      <td>4</td>\n",
              "      <td>1</td>\n",
              "      <td>1</td>\n",
              "      <td>Futrelle, Mrs. Jacques Heath (Lily May Peel)</td>\n",
              "      <td>female</td>\n",
              "      <td>35.0</td>\n",
              "      <td>1</td>\n",
              "      <td>0</td>\n",
              "      <td>113803</td>\n",
              "      <td>53.1000</td>\n",
              "      <td>C123</td>\n",
              "      <td>S</td>\n",
              "    </tr>\n",
              "    <tr>\n",
              "      <th>4</th>\n",
              "      <td>5</td>\n",
              "      <td>0</td>\n",
              "      <td>3</td>\n",
              "      <td>Allen, Mr. William Henry</td>\n",
              "      <td>male</td>\n",
              "      <td>35.0</td>\n",
              "      <td>0</td>\n",
              "      <td>0</td>\n",
              "      <td>373450</td>\n",
              "      <td>8.0500</td>\n",
              "      <td>NaN</td>\n",
              "      <td>S</td>\n",
              "    </tr>\n",
              "  </tbody>\n",
              "</table>\n",
              "</div>"
            ],
            "text/plain": [
              "   PassengerId  Survived  Pclass  ...     Fare Cabin  Embarked\n",
              "0            1         0       3  ...   7.2500   NaN         S\n",
              "1            2         1       1  ...  71.2833   C85         C\n",
              "2            3         1       3  ...   7.9250   NaN         S\n",
              "3            4         1       1  ...  53.1000  C123         S\n",
              "4            5         0       3  ...   8.0500   NaN         S\n",
              "\n",
              "[5 rows x 12 columns]"
            ]
          },
          "metadata": {
            "tags": []
          },
          "execution_count": 124
        }
      ]
    },
    {
      "cell_type": "code",
      "metadata": {
        "id": "fWpfml6i_TCR",
        "colab": {
          "base_uri": "https://localhost:8080/",
          "height": 203
        },
        "outputId": "79dabfb6-6f1b-497c-daed-cf1111e5c0f0"
      },
      "source": [
        "df_train=df_train.drop(['Name','PassengerId','Ticket','Cabin'],axis=1)\n",
        "df_train.head()"
      ],
      "execution_count": null,
      "outputs": [
        {
          "output_type": "execute_result",
          "data": {
            "text/html": [
              "<div>\n",
              "<style scoped>\n",
              "    .dataframe tbody tr th:only-of-type {\n",
              "        vertical-align: middle;\n",
              "    }\n",
              "\n",
              "    .dataframe tbody tr th {\n",
              "        vertical-align: top;\n",
              "    }\n",
              "\n",
              "    .dataframe thead th {\n",
              "        text-align: right;\n",
              "    }\n",
              "</style>\n",
              "<table border=\"1\" class=\"dataframe\">\n",
              "  <thead>\n",
              "    <tr style=\"text-align: right;\">\n",
              "      <th></th>\n",
              "      <th>Survived</th>\n",
              "      <th>Pclass</th>\n",
              "      <th>Sex</th>\n",
              "      <th>Age</th>\n",
              "      <th>SibSp</th>\n",
              "      <th>Parch</th>\n",
              "      <th>Fare</th>\n",
              "      <th>Embarked</th>\n",
              "    </tr>\n",
              "  </thead>\n",
              "  <tbody>\n",
              "    <tr>\n",
              "      <th>0</th>\n",
              "      <td>0</td>\n",
              "      <td>3</td>\n",
              "      <td>male</td>\n",
              "      <td>22.0</td>\n",
              "      <td>1</td>\n",
              "      <td>0</td>\n",
              "      <td>7.2500</td>\n",
              "      <td>S</td>\n",
              "    </tr>\n",
              "    <tr>\n",
              "      <th>1</th>\n",
              "      <td>1</td>\n",
              "      <td>1</td>\n",
              "      <td>female</td>\n",
              "      <td>38.0</td>\n",
              "      <td>1</td>\n",
              "      <td>0</td>\n",
              "      <td>71.2833</td>\n",
              "      <td>C</td>\n",
              "    </tr>\n",
              "    <tr>\n",
              "      <th>2</th>\n",
              "      <td>1</td>\n",
              "      <td>3</td>\n",
              "      <td>female</td>\n",
              "      <td>26.0</td>\n",
              "      <td>0</td>\n",
              "      <td>0</td>\n",
              "      <td>7.9250</td>\n",
              "      <td>S</td>\n",
              "    </tr>\n",
              "    <tr>\n",
              "      <th>3</th>\n",
              "      <td>1</td>\n",
              "      <td>1</td>\n",
              "      <td>female</td>\n",
              "      <td>35.0</td>\n",
              "      <td>1</td>\n",
              "      <td>0</td>\n",
              "      <td>53.1000</td>\n",
              "      <td>S</td>\n",
              "    </tr>\n",
              "    <tr>\n",
              "      <th>4</th>\n",
              "      <td>0</td>\n",
              "      <td>3</td>\n",
              "      <td>male</td>\n",
              "      <td>35.0</td>\n",
              "      <td>0</td>\n",
              "      <td>0</td>\n",
              "      <td>8.0500</td>\n",
              "      <td>S</td>\n",
              "    </tr>\n",
              "  </tbody>\n",
              "</table>\n",
              "</div>"
            ],
            "text/plain": [
              "   Survived  Pclass     Sex   Age  SibSp  Parch     Fare Embarked\n",
              "0         0       3    male  22.0      1      0   7.2500        S\n",
              "1         1       1  female  38.0      1      0  71.2833        C\n",
              "2         1       3  female  26.0      0      0   7.9250        S\n",
              "3         1       1  female  35.0      1      0  53.1000        S\n",
              "4         0       3    male  35.0      0      0   8.0500        S"
            ]
          },
          "metadata": {
            "tags": []
          },
          "execution_count": 126
        }
      ]
    },
    {
      "cell_type": "code",
      "metadata": {
        "id": "0F0QNbdN_6yf"
      },
      "source": [
        "def Age_approx(cols):\n",
        "  Age=cols[0]\n",
        "  Pclass=cols[1]\n",
        "   \n",
        "  if pd.isnull(Age):\n",
        "     if Pclass ==1:\n",
        "        return 37\n",
        "     elif Pclass ==2 :\n",
        "         return 29\n",
        "     else:\n",
        "         return 24\n",
        "  else:\n",
        "    return Age       "
      ],
      "execution_count": null,
      "outputs": []
    },
    {
      "cell_type": "code",
      "metadata": {
        "id": "iZVRiHLwCpPA",
        "colab": {
          "base_uri": "https://localhost:8080/",
          "height": 172
        },
        "outputId": "68cf26cc-e11b-4df9-caf0-85de4696838e"
      },
      "source": [
        "df_train.groupby(['Pclass']).mean()"
      ],
      "execution_count": null,
      "outputs": [
        {
          "output_type": "execute_result",
          "data": {
            "text/html": [
              "<div>\n",
              "<style scoped>\n",
              "    .dataframe tbody tr th:only-of-type {\n",
              "        vertical-align: middle;\n",
              "    }\n",
              "\n",
              "    .dataframe tbody tr th {\n",
              "        vertical-align: top;\n",
              "    }\n",
              "\n",
              "    .dataframe thead th {\n",
              "        text-align: right;\n",
              "    }\n",
              "</style>\n",
              "<table border=\"1\" class=\"dataframe\">\n",
              "  <thead>\n",
              "    <tr style=\"text-align: right;\">\n",
              "      <th></th>\n",
              "      <th>Survived</th>\n",
              "      <th>Age</th>\n",
              "      <th>SibSp</th>\n",
              "      <th>Parch</th>\n",
              "      <th>Fare</th>\n",
              "    </tr>\n",
              "    <tr>\n",
              "      <th>Pclass</th>\n",
              "      <th></th>\n",
              "      <th></th>\n",
              "      <th></th>\n",
              "      <th></th>\n",
              "      <th></th>\n",
              "    </tr>\n",
              "  </thead>\n",
              "  <tbody>\n",
              "    <tr>\n",
              "      <th>1</th>\n",
              "      <td>0.629630</td>\n",
              "      <td>38.233441</td>\n",
              "      <td>0.416667</td>\n",
              "      <td>0.356481</td>\n",
              "      <td>84.154687</td>\n",
              "    </tr>\n",
              "    <tr>\n",
              "      <th>2</th>\n",
              "      <td>0.472826</td>\n",
              "      <td>29.877630</td>\n",
              "      <td>0.402174</td>\n",
              "      <td>0.380435</td>\n",
              "      <td>20.662183</td>\n",
              "    </tr>\n",
              "    <tr>\n",
              "      <th>3</th>\n",
              "      <td>0.242363</td>\n",
              "      <td>25.140620</td>\n",
              "      <td>0.615071</td>\n",
              "      <td>0.393075</td>\n",
              "      <td>13.675550</td>\n",
              "    </tr>\n",
              "  </tbody>\n",
              "</table>\n",
              "</div>"
            ],
            "text/plain": [
              "        Survived        Age     SibSp     Parch       Fare\n",
              "Pclass                                                    \n",
              "1       0.629630  38.233441  0.416667  0.356481  84.154687\n",
              "2       0.472826  29.877630  0.402174  0.380435  20.662183\n",
              "3       0.242363  25.140620  0.615071  0.393075  13.675550"
            ]
          },
          "metadata": {
            "tags": []
          },
          "execution_count": 140
        }
      ]
    },
    {
      "cell_type": "code",
      "metadata": {
        "id": "iSu8vipZC5y1",
        "colab": {
          "base_uri": "https://localhost:8080/"
        },
        "outputId": "45964389-53f0-4895-c70c-84af8130da71"
      },
      "source": [
        "df_train['Age']=df_train[['Age','Pclass']].apply(Age_approx , axis=1)\n",
        "df_train.isnull().sum()"
      ],
      "execution_count": null,
      "outputs": [
        {
          "output_type": "execute_result",
          "data": {
            "text/plain": [
              "Survived    0\n",
              "Pclass      0\n",
              "Sex         0\n",
              "Age         0\n",
              "SibSp       0\n",
              "Parch       0\n",
              "Fare        0\n",
              "Embarked    2\n",
              "dtype: int64"
            ]
          },
          "metadata": {
            "tags": []
          },
          "execution_count": 157
        }
      ]
    },
    {
      "cell_type": "code",
      "metadata": {
        "id": "6nmRfgQvGBL8",
        "colab": {
          "base_uri": "https://localhost:8080/"
        },
        "outputId": "3922afca-d9a6-41f3-a4e4-b1d77943614b"
      },
      "source": [
        "df_train.dropna(inplace=True)\n",
        "df_train .isnull().sum()"
      ],
      "execution_count": null,
      "outputs": [
        {
          "output_type": "execute_result",
          "data": {
            "text/plain": [
              "Survived    0\n",
              "Pclass      0\n",
              "Sex         0\n",
              "Age         0\n",
              "SibSp       0\n",
              "Parch       0\n",
              "Fare        0\n",
              "Embarked    0\n",
              "dtype: int64"
            ]
          },
          "metadata": {
            "tags": []
          },
          "execution_count": 160
        }
      ]
    },
    {
      "cell_type": "code",
      "metadata": {
        "id": "aiHC2e1CGVQ3",
        "colab": {
          "base_uri": "https://localhost:8080/"
        },
        "outputId": "efdd5821-0843-4e9c-add9-38db86b8e0c3"
      },
      "source": [
        "df_train.dtypes"
      ],
      "execution_count": null,
      "outputs": [
        {
          "output_type": "execute_result",
          "data": {
            "text/plain": [
              "Survived      int64\n",
              "Pclass        int64\n",
              "Sex          object\n",
              "Age         float64\n",
              "SibSp         int64\n",
              "Parch         int64\n",
              "Fare        float64\n",
              "Embarked     object\n",
              "dtype: object"
            ]
          },
          "metadata": {
            "tags": []
          },
          "execution_count": 161
        }
      ]
    },
    {
      "cell_type": "code",
      "metadata": {
        "id": "We7vlfp0Ga5K",
        "colab": {
          "base_uri": "https://localhost:8080/",
          "height": 203
        },
        "outputId": "9787f8b1-42ae-4a5d-ef1e-2f7b66ff2678"
      },
      "source": [
        "df_train_dummied=pd.get_dummies(df_train,columns=['Sex'])\n",
        "df_train_dummied=pd.get_dummies(df_train_dummied,columns=['Embarked'])\n",
        "df_train_dummied.head()"
      ],
      "execution_count": null,
      "outputs": [
        {
          "output_type": "execute_result",
          "data": {
            "text/html": [
              "<div>\n",
              "<style scoped>\n",
              "    .dataframe tbody tr th:only-of-type {\n",
              "        vertical-align: middle;\n",
              "    }\n",
              "\n",
              "    .dataframe tbody tr th {\n",
              "        vertical-align: top;\n",
              "    }\n",
              "\n",
              "    .dataframe thead th {\n",
              "        text-align: right;\n",
              "    }\n",
              "</style>\n",
              "<table border=\"1\" class=\"dataframe\">\n",
              "  <thead>\n",
              "    <tr style=\"text-align: right;\">\n",
              "      <th></th>\n",
              "      <th>Survived</th>\n",
              "      <th>Pclass</th>\n",
              "      <th>Age</th>\n",
              "      <th>SibSp</th>\n",
              "      <th>Parch</th>\n",
              "      <th>Fare</th>\n",
              "      <th>Sex_female</th>\n",
              "      <th>Sex_male</th>\n",
              "      <th>Embarked_C</th>\n",
              "      <th>Embarked_Q</th>\n",
              "      <th>Embarked_S</th>\n",
              "    </tr>\n",
              "  </thead>\n",
              "  <tbody>\n",
              "    <tr>\n",
              "      <th>0</th>\n",
              "      <td>0</td>\n",
              "      <td>3</td>\n",
              "      <td>22.0</td>\n",
              "      <td>1</td>\n",
              "      <td>0</td>\n",
              "      <td>7.2500</td>\n",
              "      <td>0</td>\n",
              "      <td>1</td>\n",
              "      <td>0</td>\n",
              "      <td>0</td>\n",
              "      <td>1</td>\n",
              "    </tr>\n",
              "    <tr>\n",
              "      <th>1</th>\n",
              "      <td>1</td>\n",
              "      <td>1</td>\n",
              "      <td>38.0</td>\n",
              "      <td>1</td>\n",
              "      <td>0</td>\n",
              "      <td>71.2833</td>\n",
              "      <td>1</td>\n",
              "      <td>0</td>\n",
              "      <td>1</td>\n",
              "      <td>0</td>\n",
              "      <td>0</td>\n",
              "    </tr>\n",
              "    <tr>\n",
              "      <th>2</th>\n",
              "      <td>1</td>\n",
              "      <td>3</td>\n",
              "      <td>26.0</td>\n",
              "      <td>0</td>\n",
              "      <td>0</td>\n",
              "      <td>7.9250</td>\n",
              "      <td>1</td>\n",
              "      <td>0</td>\n",
              "      <td>0</td>\n",
              "      <td>0</td>\n",
              "      <td>1</td>\n",
              "    </tr>\n",
              "    <tr>\n",
              "      <th>3</th>\n",
              "      <td>1</td>\n",
              "      <td>1</td>\n",
              "      <td>35.0</td>\n",
              "      <td>1</td>\n",
              "      <td>0</td>\n",
              "      <td>53.1000</td>\n",
              "      <td>1</td>\n",
              "      <td>0</td>\n",
              "      <td>0</td>\n",
              "      <td>0</td>\n",
              "      <td>1</td>\n",
              "    </tr>\n",
              "    <tr>\n",
              "      <th>4</th>\n",
              "      <td>0</td>\n",
              "      <td>3</td>\n",
              "      <td>35.0</td>\n",
              "      <td>0</td>\n",
              "      <td>0</td>\n",
              "      <td>8.0500</td>\n",
              "      <td>0</td>\n",
              "      <td>1</td>\n",
              "      <td>0</td>\n",
              "      <td>0</td>\n",
              "      <td>1</td>\n",
              "    </tr>\n",
              "  </tbody>\n",
              "</table>\n",
              "</div>"
            ],
            "text/plain": [
              "   Survived  Pclass   Age  SibSp  ...  Sex_male  Embarked_C  Embarked_Q  Embarked_S\n",
              "0         0       3  22.0      1  ...         1           0           0           1\n",
              "1         1       1  38.0      1  ...         0           1           0           0\n",
              "2         1       3  26.0      0  ...         0           0           0           1\n",
              "3         1       1  35.0      1  ...         0           0           0           1\n",
              "4         0       3  35.0      0  ...         1           0           0           1\n",
              "\n",
              "[5 rows x 11 columns]"
            ]
          },
          "metadata": {
            "tags": []
          },
          "execution_count": 162
        }
      ]
    },
    {
      "cell_type": "code",
      "metadata": {
        "id": "fRjLx8SzHnws",
        "colab": {
          "base_uri": "https://localhost:8080/",
          "height": 387
        },
        "outputId": "7da0abfe-01b2-4e98-cb39-fb4b78bc9482"
      },
      "source": [
        "plt.figure(figsize=(6,4))\n",
        "sns.heatmap(df_train_dummied.corr())"
      ],
      "execution_count": null,
      "outputs": [
        {
          "output_type": "execute_result",
          "data": {
            "text/plain": [
              "<matplotlib.axes._subplots.AxesSubplot at 0x7fdd01f5a850>"
            ]
          },
          "metadata": {
            "tags": []
          },
          "execution_count": 163
        },
        {
          "output_type": "display_data",
          "data": {
            "image/png": "[encoded data removed]",
            "text/plain": [
              "<Figure size 432x288 with 2 Axes>"
            ]
          },
          "metadata": {
            "tags": []
          }
        }
      ]
    },
    {
      "cell_type": "code",
      "metadata": {
        "id": "YpqFPUKcH_D5"
      },
      "source": [
        "used_features=[\"Pclass\",\"Age\",\"SibSp\",\"Parch\",\"Sex_female\",\"Sex_male\",\"Embarked_C\",\"Embarked_Q\",\"Embarked_S\"]\n",
        "x=df_train_dummied[used_features].values\n",
        "y=df_train_dummied['Survived']"
      ],
      "execution_count": null,
      "outputs": []
    },
    {
      "cell_type": "code",
      "metadata": {
        "id": "RzXyHymwKtQ7",
        "colab": {
          "base_uri": "https://localhost:8080/"
        },
        "outputId": "a3154baa-18e7-4f72-9a95-2c832f0b9c5f"
      },
      "source": [
        "x_train,x_test,y_train,y_test=train_test_split(x,y,test_size=0.3,random_state=1)\n",
        "print(x_train.shape)\n",
        "print(y_train.shape)\n",
        "print(x_test.shape)\n",
        "print(y_test.shape)\n"
      ],
      "execution_count": null,
      "outputs": [
        {
          "output_type": "stream",
          "text": [
            "(622, 9)\n",
            "(622,)\n",
            "(267, 9)\n",
            "(267,)\n"
          ],
          "name": "stdout"
        }
      ]
    },
    {
      "cell_type": "code",
      "metadata": {
        "id": "uUI67gyjMg0z",
        "colab": {
          "base_uri": "https://localhost:8080/"
        },
        "outputId": "9e890873-35c9-407f-8883-f097fea60ba0"
      },
      "source": [
        "logreg=LogisticRegression()\n",
        "logreg.fit(x_train,y_train)\n",
        "\n"
      ],
      "execution_count": null,
      "outputs": [
        {
          "output_type": "execute_result",
          "data": {
            "text/plain": [
              "LogisticRegression(C=1.0, class_weight=None, dual=False, fit_intercept=True,\n",
              "                   intercept_scaling=1, l1_ratio=None, max_iter=100,\n",
              "                   multi_class='auto', n_jobs=None, penalty='l2',\n",
              "                   random_state=None, solver='lbfgs', tol=0.0001, verbose=0,\n",
              "                   warm_start=False)"
            ]
          },
          "metadata": {
            "tags": []
          },
          "execution_count": 174
        }
      ]
    },
    {
      "cell_type": "code",
      "metadata": {
        "id": "CI4vtxoMNdiY",
        "colab": {
          "base_uri": "https://localhost:8080/"
        },
        "outputId": "489f19b5-4429-4bda-951f-380fb04056d9"
      },
      "source": [
        "y_pred=logreg.predict(x_test)\n",
        "metrics.confusion_matrix(y_test,y_pred)\n"
      ],
      "execution_count": null,
      "outputs": [
        {
          "output_type": "execute_result",
          "data": {
            "text/plain": [
              "array([[143,  23],\n",
              "       [ 22,  79]])"
            ]
          },
          "metadata": {
            "tags": []
          },
          "execution_count": 175
        }
      ]
    },
    {
      "cell_type": "code",
      "metadata": {
        "id": "FGrzU88XNrxM",
        "colab": {
          "base_uri": "https://localhost:8080/"
        },
        "outputId": "0ef9eb6d-f22e-4592-a656-f66534d7d316"
      },
      "source": [
        "len(x_test)\n"
      ],
      "execution_count": null,
      "outputs": [
        {
          "output_type": "execute_result",
          "data": {
            "text/plain": [
              "267"
            ]
          },
          "metadata": {
            "tags": []
          },
          "execution_count": 178
        }
      ]
    },
    {
      "cell_type": "code",
      "metadata": {
        "id": "-ah9KhBsPEXY",
        "colab": {
          "base_uri": "https://localhost:8080/"
        },
        "outputId": "b48205c6-d091-4554-fd46-218bb2e0df72"
      },
      "source": [
        "print(classification_report(y_test,y_pred))\n"
      ],
      "execution_count": null,
      "outputs": [
        {
          "output_type": "stream",
          "text": [
            "              precision    recall  f1-score   support\n",
            "\n",
            "           0       0.87      0.86      0.86       166\n",
            "           1       0.77      0.78      0.78       101\n",
            "\n",
            "    accuracy                           0.83       267\n",
            "   macro avg       0.82      0.82      0.82       267\n",
            "weighted avg       0.83      0.83      0.83       267\n",
            "\n"
          ],
          "name": "stdout"
        }
      ]
    },
    {
      "cell_type": "code",
      "metadata": {
        "id": "pBIhOl17PIVm",
        "colab": {
          "base_uri": "https://localhost:8080/"
        },
        "outputId": "3e150306-3dcd-4966-f4a6-325296ed44e4"
      },
      "source": [
        "logreg.coef_\n"
      ],
      "execution_count": null,
      "outputs": [
        {
          "output_type": "execute_result",
          "data": {
            "text/plain": [
              "array([[-1.04157843, -0.03986703, -0.2420805 , -0.04070764,  1.19330674,\n",
              "        -1.19506857,  0.34912268, -0.0377803 , -0.31310422]])"
            ]
          },
          "metadata": {
            "tags": []
          },
          "execution_count": 180
        }
      ]
    },
    {
      "cell_type": "code",
      "metadata": {
        "id": "bKvJ7RLBPNwm",
        "colab": {
          "base_uri": "https://localhost:8080/"
        },
        "outputId": "3d93f54e-af49-42a9-8054-693ea25ff79e"
      },
      "source": [
        "logreg.intercept_\n"
      ],
      "execution_count": null,
      "outputs": [
        {
          "output_type": "execute_result",
          "data": {
            "text/plain": [
              "array([3.65617663])"
            ]
          },
          "metadata": {
            "tags": []
          },
          "execution_count": 181
        }
      ]
    },
    {
      "cell_type": "code",
      "metadata": {
        "id": "uWUg-ocCPRZo",
        "colab": {
          "base_uri": "https://localhost:8080/",
          "height": 417
        },
        "outputId": "e80491e0-aa0b-4fbd-9c39-2c7fa088127e"
      },
      "source": [
        "df_train_dummied[used_features]\n"
      ],
      "execution_count": null,
      "outputs": [
        {
          "output_type": "execute_result",
          "data": {
            "text/html": [
              "<div>\n",
              "<style scoped>\n",
              "    .dataframe tbody tr th:only-of-type {\n",
              "        vertical-align: middle;\n",
              "    }\n",
              "\n",
              "    .dataframe tbody tr th {\n",
              "        vertical-align: top;\n",
              "    }\n",
              "\n",
              "    .dataframe thead th {\n",
              "        text-align: right;\n",
              "    }\n",
              "</style>\n",
              "<table border=\"1\" class=\"dataframe\">\n",
              "  <thead>\n",
              "    <tr style=\"text-align: right;\">\n",
              "      <th></th>\n",
              "      <th>Pclass</th>\n",
              "      <th>Age</th>\n",
              "      <th>SibSp</th>\n",
              "      <th>Parch</th>\n",
              "      <th>Sex_female</th>\n",
              "      <th>Sex_male</th>\n",
              "      <th>Embarked_C</th>\n",
              "      <th>Embarked_Q</th>\n",
              "      <th>Embarked_S</th>\n",
              "    </tr>\n",
              "  </thead>\n",
              "  <tbody>\n",
              "    <tr>\n",
              "      <th>0</th>\n",
              "      <td>3</td>\n",
              "      <td>22.0</td>\n",
              "      <td>1</td>\n",
              "      <td>0</td>\n",
              "      <td>0</td>\n",
              "      <td>1</td>\n",
              "      <td>0</td>\n",
              "      <td>0</td>\n",
              "      <td>1</td>\n",
              "    </tr>\n",
              "    <tr>\n",
              "      <th>1</th>\n",
              "      <td>1</td>\n",
              "      <td>38.0</td>\n",
              "      <td>1</td>\n",
              "      <td>0</td>\n",
              "      <td>1</td>\n",
              "      <td>0</td>\n",
              "      <td>1</td>\n",
              "      <td>0</td>\n",
              "      <td>0</td>\n",
              "    </tr>\n",
              "    <tr>\n",
              "      <th>2</th>\n",
              "      <td>3</td>\n",
              "      <td>26.0</td>\n",
              "      <td>0</td>\n",
              "      <td>0</td>\n",
              "      <td>1</td>\n",
              "      <td>0</td>\n",
              "      <td>0</td>\n",
              "      <td>0</td>\n",
              "      <td>1</td>\n",
              "    </tr>\n",
              "    <tr>\n",
              "      <th>3</th>\n",
              "      <td>1</td>\n",
              "      <td>35.0</td>\n",
              "      <td>1</td>\n",
              "      <td>0</td>\n",
              "      <td>1</td>\n",
              "      <td>0</td>\n",
              "      <td>0</td>\n",
              "      <td>0</td>\n",
              "      <td>1</td>\n",
              "    </tr>\n",
              "    <tr>\n",
              "      <th>4</th>\n",
              "      <td>3</td>\n",
              "      <td>35.0</td>\n",
              "      <td>0</td>\n",
              "      <td>0</td>\n",
              "      <td>0</td>\n",
              "      <td>1</td>\n",
              "      <td>0</td>\n",
              "      <td>0</td>\n",
              "      <td>1</td>\n",
              "    </tr>\n",
              "    <tr>\n",
              "      <th>...</th>\n",
              "      <td>...</td>\n",
              "      <td>...</td>\n",
              "      <td>...</td>\n",
              "      <td>...</td>\n",
              "      <td>...</td>\n",
              "      <td>...</td>\n",
              "      <td>...</td>\n",
              "      <td>...</td>\n",
              "      <td>...</td>\n",
              "    </tr>\n",
              "    <tr>\n",
              "      <th>886</th>\n",
              "      <td>2</td>\n",
              "      <td>27.0</td>\n",
              "      <td>0</td>\n",
              "      <td>0</td>\n",
              "      <td>0</td>\n",
              "      <td>1</td>\n",
              "      <td>0</td>\n",
              "      <td>0</td>\n",
              "      <td>1</td>\n",
              "    </tr>\n",
              "    <tr>\n",
              "      <th>887</th>\n",
              "      <td>1</td>\n",
              "      <td>19.0</td>\n",
              "      <td>0</td>\n",
              "      <td>0</td>\n",
              "      <td>1</td>\n",
              "      <td>0</td>\n",
              "      <td>0</td>\n",
              "      <td>0</td>\n",
              "      <td>1</td>\n",
              "    </tr>\n",
              "    <tr>\n",
              "      <th>888</th>\n",
              "      <td>3</td>\n",
              "      <td>24.0</td>\n",
              "      <td>1</td>\n",
              "      <td>2</td>\n",
              "      <td>1</td>\n",
              "      <td>0</td>\n",
              "      <td>0</td>\n",
              "      <td>0</td>\n",
              "      <td>1</td>\n",
              "    </tr>\n",
              "    <tr>\n",
              "      <th>889</th>\n",
              "      <td>1</td>\n",
              "      <td>26.0</td>\n",
              "      <td>0</td>\n",
              "      <td>0</td>\n",
              "      <td>0</td>\n",
              "      <td>1</td>\n",
              "      <td>1</td>\n",
              "      <td>0</td>\n",
              "      <td>0</td>\n",
              "    </tr>\n",
              "    <tr>\n",
              "      <th>890</th>\n",
              "      <td>3</td>\n",
              "      <td>32.0</td>\n",
              "      <td>0</td>\n",
              "      <td>0</td>\n",
              "      <td>0</td>\n",
              "      <td>1</td>\n",
              "      <td>0</td>\n",
              "      <td>1</td>\n",
              "      <td>0</td>\n",
              "    </tr>\n",
              "  </tbody>\n",
              "</table>\n",
              "<p>889 rows × 9 columns</p>\n",
              "</div>"
            ],
            "text/plain": [
              "     Pclass   Age  SibSp  Parch  ...  Sex_male  Embarked_C  Embarked_Q  Embarked_S\n",
              "0         3  22.0      1      0  ...         1           0           0           1\n",
              "1         1  38.0      1      0  ...         0           1           0           0\n",
              "2         3  26.0      0      0  ...         0           0           0           1\n",
              "3         1  35.0      1      0  ...         0           0           0           1\n",
              "4         3  35.0      0      0  ...         1           0           0           1\n",
              "..      ...   ...    ...    ...  ...       ...         ...         ...         ...\n",
              "886       2  27.0      0      0  ...         1           0           0           1\n",
              "887       1  19.0      0      0  ...         0           0           0           1\n",
              "888       3  24.0      1      2  ...         0           0           0           1\n",
              "889       1  26.0      0      0  ...         1           1           0           0\n",
              "890       3  32.0      0      0  ...         1           0           1           0\n",
              "\n",
              "[889 rows x 9 columns]"
            ]
          },
          "metadata": {
            "tags": []
          },
          "execution_count": 184
        }
      ]
    },
    {
      "cell_type": "code",
      "metadata": {
        "id": "xNnOPo9IRXA0"
      },
      "source": [
        "from google.colab import drive\n",
        "drive.mount('/content/drive')"
      ],
      "execution_count": null,
      "outputs": []
    },
    {
      "cell_type": "code",
      "metadata": {
        "id": "RntUU5ywPtGL",
        "colab": {
          "base_uri": "https://localhost:8080/"
        },
        "outputId": "ba6f1d47-d124-40fc-8113-0b0fc1f3d604"
      },
      "source": [
        "logreg.predict_log_proba(x_test)"
      ],
      "execution_count": null,
      "outputs": [
        {
          "output_type": "execute_result",
          "data": {
            "text/plain": [
              "array([[-1.32645924, -0.30845007],\n",
              "       [-0.92453202, -0.50536892],\n",
              "       [-0.05406842, -2.94441737],\n",
              "       [-1.34938837, -0.30029308],\n",
              "       [-0.05752207, -2.88420971],\n",
              "       [-2.00241079, -0.14503665],\n",
              "       [-1.09920579, -0.40516849],\n",
              "       [-0.65556567, -0.7321964 ],\n",
              "       [-0.24640839, -1.5214406 ],\n",
              "       [-0.89818315, -0.5230821 ],\n",
              "       [-0.30099442, -1.34738869],\n",
              "       [-1.55325365, -0.23769709],\n",
              "       [-0.28951594, -1.38081286],\n",
              "       [-1.92633613, -0.15745059],\n",
              "       [-0.14551911, -1.99932525],\n",
              "       [-0.99573491, -0.46116573],\n",
              "       [-0.11245429, -2.24090876],\n",
              "       [-1.21185629, -0.35331524],\n",
              "       [-1.73531853, -0.19400234],\n",
              "       [-0.91919143, -0.50889649],\n",
              "       [-0.0999707 , -2.35244714],\n",
              "       [-0.59272566, -0.80479058],\n",
              "       [-0.14581154, -1.99746036],\n",
              "       [-0.06459878, -2.77168532],\n",
              "       [-0.66106341, -0.72629453],\n",
              "       [-0.66193197, -0.72536826],\n",
              "       [-3.24016364, -0.03994476],\n",
              "       [-0.1402122 , -2.03388537],\n",
              "       [-0.10754203, -2.28316272],\n",
              "       [-1.12343844, -0.3932794 ],\n",
              "       [-0.94620423, -0.49136912],\n",
              "       [-0.89711976, -0.52381354],\n",
              "       [-1.86419259, -0.16844389],\n",
              "       [-0.88009639, -0.53570409],\n",
              "       [-0.52571276, -0.8943675 ],\n",
              "       [-1.79724307, -0.18122844],\n",
              "       [-0.41984881, -1.07045107],\n",
              "       [-0.13508603, -2.06862623],\n",
              "       [-1.41286965, -0.2789783 ],\n",
              "       [-0.55211429, -0.8573882 ],\n",
              "       [-0.82808802, -0.57426928],\n",
              "       [-0.09284402, -2.42289722],\n",
              "       [-1.15127462, -0.3801387 ],\n",
              "       [-0.13508603, -2.06862623],\n",
              "       [-0.22737163, -1.59270214],\n",
              "       [-1.44601851, -0.26854122],\n",
              "       [-1.76826969, -0.18708646],\n",
              "       [-0.20325103, -1.69321827],\n",
              "       [-2.80006074, -0.06273361],\n",
              "       [-0.07952341, -2.57120204],\n",
              "       [-0.13508603, -2.06862623],\n",
              "       [-0.85066787, -0.55709571],\n",
              "       [-0.12347157, -2.15284497],\n",
              "       [-2.39444559, -0.0956558 ],\n",
              "       [-0.28951594, -1.38081286],\n",
              "       [-2.65026911, -0.07325071],\n",
              "       [-0.25175876, -1.5025238 ],\n",
              "       [-0.04968221, -3.02684656],\n",
              "       [-0.3552383 , -1.20733303],\n",
              "       [-0.06501275, -2.76550208],\n",
              "       [-0.20417912, -1.68911073],\n",
              "       [-0.15101212, -1.96495123],\n",
              "       [-0.52571276, -0.8943675 ],\n",
              "       [-0.13508603, -2.06862623],\n",
              "       [-0.85066787, -0.55709571],\n",
              "       [-1.44317667, -0.26941829],\n",
              "       [-0.13508603, -2.06862623],\n",
              "       [-0.09265294, -2.42486345],\n",
              "       [-0.16873662, -1.86259852],\n",
              "       [-2.91198887, -0.05590125],\n",
              "       [-0.14603872, -1.99601434],\n",
              "       [-2.87433066, -0.05811007],\n",
              "       [-0.42688744, -1.05709709],\n",
              "       [-0.15101212, -1.96495123],\n",
              "       [-1.15652619, -0.37771921],\n",
              "       [-2.00241079, -0.14503665],\n",
              "       [-0.17435528, -1.83257155],\n",
              "       [-0.07930367, -2.57386062],\n",
              "       [-0.19175957, -1.74586101],\n",
              "       [-0.18229982, -1.79186815],\n",
              "       [-0.17435528, -1.83257155],\n",
              "       [-0.14551911, -1.99932525],\n",
              "       [-3.24016364, -0.03994476],\n",
              "       [-2.81595681, -0.06171311],\n",
              "       [-0.27006311, -1.44109409],\n",
              "       [-0.47852711, -0.96678294],\n",
              "       [-0.82369159, -0.57769354],\n",
              "       [-0.8501864 , -0.55745485],\n",
              "       [-0.13508603, -2.06862623],\n",
              "       [-0.99573491, -0.46116573],\n",
              "       [-0.10783588, -2.28057827],\n",
              "       [-1.12343844, -0.3932794 ],\n",
              "       [-0.06800196, -2.72202703],\n",
              "       [-0.24722177, -1.51853507],\n",
              "       [-1.40016347, -0.28310146],\n",
              "       [-0.17530205, -1.82761571],\n",
              "       [-1.47275546, -0.26044675],\n",
              "       [-1.2925393 , -0.32099438],\n",
              "       [-1.40016347, -0.28310146],\n",
              "       [-1.53871327, -0.24163488],\n",
              "       [-0.16257834, -1.89678338],\n",
              "       [-1.07224421, -0.41891454],\n",
              "       [-0.50145041, -0.93052044],\n",
              "       [-0.15669669, -1.93076876],\n",
              "       [-0.15669669, -1.93076876],\n",
              "       [-0.09880195, -2.36363224],\n",
              "       [-1.99149157, -0.14675175],\n",
              "       [-0.16257834, -1.89678338],\n",
              "       [-0.26523798, -1.45681722],\n",
              "       [-0.20325103, -1.69321827],\n",
              "       [-0.44790797, -1.01877618],\n",
              "       [-0.28951594, -1.38081286],\n",
              "       [-0.24722177, -1.51853507],\n",
              "       [-1.68172502, -0.20585972],\n",
              "       [-1.02190008, -0.44614716],\n",
              "       [-2.45220828, -0.09003766],\n",
              "       [-0.08806942, -2.47334141],\n",
              "       [-0.89818315, -0.5230821 ],\n",
              "       [-2.74813753, -0.06619006],\n",
              "       [-0.23455443, -1.56505354],\n",
              "       [-0.13013532, -2.10354255],\n",
              "       [-1.58024411, -0.23057714],\n",
              "       [-1.12343844, -0.3932794 ],\n",
              "       [-0.68823358, -0.69808504],\n",
              "       [-1.57119847, -0.23293634],\n",
              "       [-0.11411572, -2.22705756],\n",
              "       [-0.8139152 , -0.58540508],\n",
              "       [-0.09478148, -2.40319771],\n",
              "       [-0.1253549 , -2.13862916],\n",
              "       [-0.54921796, -0.86133197],\n",
              "       [-0.80517192, -0.5924173 ],\n",
              "       [-0.50145041, -0.93052044],\n",
              "       [-0.12947794, -2.1082853 ],\n",
              "       [-0.52571276, -0.8943675 ],\n",
              "       [-0.99573491, -0.46116573],\n",
              "       [-2.64837547, -0.07339478],\n",
              "       [-0.15101212, -1.96495123],\n",
              "       [-0.07653131, -2.60807697],\n",
              "       [-0.13508603, -2.06862623],\n",
              "       [-0.11628467, -2.209293  ],\n",
              "       [-0.15171946, -1.96062294],\n",
              "       [-1.15455423, -0.37862555],\n",
              "       [-0.07952341, -2.57120204],\n",
              "       [-0.9444443 , -0.4924875 ],\n",
              "       [-0.52571276, -0.8943675 ],\n",
              "       [-0.3678002 , -1.17848533],\n",
              "       [-1.71705757, -0.19795571],\n",
              "       [-2.23600765, -0.11303922],\n",
              "       [-2.54037593, -0.08211801],\n",
              "       [-0.07311955, -2.65199646],\n",
              "       [-0.15437773, -1.94454894],\n",
              "       [-0.06561184, -2.75662563],\n",
              "       [-1.95036842, -0.15340956],\n",
              "       [-0.16257834, -1.89678338],\n",
              "       [-0.96966799, -0.47676068],\n",
              "       [-0.99573491, -0.46116573],\n",
              "       [-0.23560936, -1.56107285],\n",
              "       [-0.98924249, -0.46498945],\n",
              "       [-0.11628467, -2.209293  ],\n",
              "       [-0.13508603, -2.06862623],\n",
              "       [-0.68823358, -0.69808504],\n",
              "       [-0.26077039, -1.47166841],\n",
              "       [-0.54921796, -0.86133197],\n",
              "       [-0.13934815, -2.03964492],\n",
              "       [-0.13572373, -2.0642283 ],\n",
              "       [-0.1814624 , -1.79606635],\n",
              "       [-1.98900662, -0.14714511],\n",
              "       [-2.82295106, -0.06126952],\n",
              "       [-0.25048038, -1.50700205],\n",
              "       [-1.44253466, -0.26961689],\n",
              "       [-0.16257834, -1.89678338],\n",
              "       [-0.10649504, -2.29243187],\n",
              "       [-0.17435528, -1.83257155],\n",
              "       [-0.13508603, -2.06862623],\n",
              "       [-0.38589611, -1.138938  ],\n",
              "       [-1.23517329, -0.34359566],\n",
              "       [-0.14551911, -1.99932525],\n",
              "       [-0.34348398, -1.23544574],\n",
              "       [-0.13508603, -2.06862623],\n",
              "       [-0.16257834, -1.89678338],\n",
              "       [-0.17435528, -1.83257155],\n",
              "       [-0.13508603, -2.06862623],\n",
              "       [-0.42868298, -1.05373375],\n",
              "       [-0.07002856, -2.69366213],\n",
              "       [-1.12343844, -0.3932794 ],\n",
              "       [-0.1901737 , -1.75339782],\n",
              "       [-0.96667308, -0.47859454],\n",
              "       [-0.54220557, -0.87099328],\n",
              "       [-1.47830367, -0.25880203],\n",
              "       [-0.0999707 , -2.35244714],\n",
              "       [-0.28016965, -1.40917629],\n",
              "       [-0.3326674 , -1.26233888],\n",
              "       [-0.14551911, -1.99932525],\n",
              "       [-0.26938265, -1.44329194],\n",
              "       [-0.06537608, -2.76010878],\n",
              "       [-0.29078415, -1.37704545],\n",
              "       [-0.10678619, -2.28984471],\n",
              "       [-1.23951006, -0.34182297],\n",
              "       [-0.52571276, -0.8943675 ],\n",
              "       [-2.72378989, -0.06787803],\n",
              "       [-0.35390499, -1.21046602],\n",
              "       [-1.69848204, -0.2020685 ],\n",
              "       [-0.25045388, -1.50709516],\n",
              "       [-0.60271273, -0.79258057],\n",
              "       [-3.04668745, -0.04868204],\n",
              "       [-0.11628467, -2.209293  ],\n",
              "       [-0.13258907, -2.08606278],\n",
              "       [-1.1308331 , -0.38973584],\n",
              "       [-0.21058716, -1.6613021 ],\n",
              "       [-2.43074099, -0.09208417],\n",
              "       [-0.17435528, -1.83257155],\n",
              "       [-0.29968801, -1.3511179 ],\n",
              "       [-0.24722177, -1.51853507],\n",
              "       [-0.26523798, -1.45681722],\n",
              "       [-1.17729505, -0.3683298 ],\n",
              "       [-1.63487927, -0.21688308],\n",
              "       [-0.27964295, -1.41080691],\n",
              "       [-1.64639352, -0.21411417],\n",
              "       [-0.0891885 , -2.46126604],\n",
              "       [-0.36798942, -1.17805981],\n",
              "       [-0.13934815, -2.03964492],\n",
              "       [-0.69758696, -0.68872702],\n",
              "       [-0.40049269, -1.10863193],\n",
              "       [-1.50753896, -0.25032761],\n",
              "       [-1.41350568, -0.27877373],\n",
              "       [-0.14551911, -1.99932525],\n",
              "       [-0.55534523, -0.85302045],\n",
              "       [-0.17435528, -1.83257155],\n",
              "       [-0.23862451, -1.54980485],\n",
              "       [-0.2893047 , -1.38144223],\n",
              "       [-0.96667308, -0.47859454],\n",
              "       [-1.22343154, -0.34845002],\n",
              "       [-0.76097156, -0.62963221],\n",
              "       [-0.17435528, -1.83257155],\n",
              "       [-0.10783588, -2.28057827],\n",
              "       [-0.1159691 , -2.21185573],\n",
              "       [-0.13508603, -2.06862623],\n",
              "       [-0.22501673, -1.60198009],\n",
              "       [-1.04123115, -0.43543958],\n",
              "       [-0.13013532, -2.10354255],\n",
              "       [-1.21185629, -0.35331524],\n",
              "       [-0.17435528, -1.83257155],\n",
              "       [-0.16257834, -1.89678338],\n",
              "       [-0.39954373, -1.11056128],\n",
              "       [-0.6601332 , -0.72728841],\n",
              "       [-2.31628225, -0.10385013],\n",
              "       [-2.01654367, -0.14284867],\n",
              "       [-0.22620355, -1.59729069],\n",
              "       [-0.36887646, -1.17606855],\n",
              "       [-0.13472279, -2.07114129],\n",
              "       [-1.41886275, -0.27705746],\n",
              "       [-1.12343844, -0.3932794 ],\n",
              "       [-0.92200335, -0.50703526],\n",
              "       [-0.06068349, -2.83227195],\n",
              "       [-2.21503367, -0.11557904],\n",
              "       [-1.48934783, -0.25556304],\n",
              "       [-0.1253549 , -2.13862916],\n",
              "       [-0.0999707 , -2.35244714],\n",
              "       [-3.23854831, -0.04001065],\n",
              "       [-0.24722177, -1.51853507],\n",
              "       [-1.60185959, -0.22504714],\n",
              "       [-0.13461355, -2.07189904],\n",
              "       [-0.41956068, -1.07100355],\n",
              "       [-0.13508603, -2.06862623],\n",
              "       [-1.22343154, -0.34845002],\n",
              "       [-0.17435528, -1.83257155],\n",
              "       [-0.0922503 , -2.42902033]])"
            ]
          },
          "metadata": {
            "tags": []
          },
          "execution_count": 186
        }
      ]
    }
  ]
}